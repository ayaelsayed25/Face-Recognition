{
  "nbformat": 4,
  "nbformat_minor": 0,
  "metadata": {
    "colab": {
      "name": "Face Recognition.ipynb",
      "provenance": [],
      "authorship_tag": "ABX9TyNgTzdVPVbAPiT3jUCkNOJN",
      "include_colab_link": true
    },
    "kernelspec": {
      "name": "python3",
      "display_name": "Python 3"
    },
    "language_info": {
      "name": "python"
    }
  },
  "cells": [
    {
      "cell_type": "markdown",
      "metadata": {
        "id": "view-in-github",
        "colab_type": "text"
      },
      "source": [
        "<a href=\"https://colab.research.google.com/github/ayaelsayed25/Face-Recognition/blob/main/Face_Recognition.ipynb\" target=\"_parent\"><img src=\"https://colab.research.google.com/assets/colab-badge.svg\" alt=\"Open In Colab\"/></a>"
      ]
    },
    {
      "cell_type": "markdown",
      "source": [
        "# **LDA Transformation**"
      ],
      "metadata": {
        "id": "iR-aNbTwITL1"
      }
    },
    {
      "cell_type": "code",
      "source": [
        "def LDA(train_data, train_labels):\n",
        "  #Construct the D matrix of shape: (40, 200, 10304) so that Di in D is for the ith class (class-specific subset)\n",
        "  D = np.hstack((train_data,train_labels[:,None]))\n",
        "  D = D[D[:, -1].argsort()]\n",
        "  D = np.split(D[:,:-1], np.unique(D[:, -1], return_index=True)[1][1:])\n",
        "  overall_mean = np.mean(train_data,axis = 0) #Mean vector for the sample data\n",
        "  print(np.shape(D))\n",
        "  B_sum = np.zeros((n_of_features,n_of_features)) #B matrix\n",
        "  S_sum = np.zeros((n_of_features,n_of_features)) #S matrix : Covariance matrix\n",
        "  for d in D : #d is the class-specific subset\n",
        "    mean = np.mean(d,axis = 0) #class mean\n",
        "    n = np.shape(d)[0] #number of samples in the class\n",
        "    mean_difference = np.subtract(mean,overall_mean)\n",
        "    mean_difference = mean_difference.reshape(n_of_features,1)\n",
        "    mean_difference_t = mean_difference.T\n",
        "    B_sum +=  n * np.dot(mean_difference,mean_difference_t) #B = Σ 𝑛𝑘 (𝜇𝑘 − 𝜇)(𝜇𝑘 − 𝜇)𝑇\n",
        "    Z = np.subtract(d,mean) #center class matrix\n",
        "    S_sum += np.dot(Z.T,Z) #S = Σ (Zi)𝑇(Zi)\n",
        "  product = np.dot(np.linalg.inv(S_sum),B_sum) # product = (S^-1)B\n",
        "  eigen_values,eigen_vectors = np.linalg.eigh(product)\n",
        "  #sort eigen values and the corresponding eigen vectors\n",
        "  idx = eigen_values.argsort()[::-1]\n",
        "  eigen_values = eigen_values[idx]\n",
        "  eigen_vectors = eigen_vectors[:,idx]\n",
        "  return eigen_values, eigen_vectors"
      ],
      "metadata": {
        "id": "WxV3ZHqwIcI7"
      },
      "execution_count": null,
      "outputs": []
    },
    {
      "cell_type": "markdown",
      "source": [
        "# **PCA transformation**"
      ],
      "metadata": {
        "id": "72-SKEtUJooM"
      }
    },
    {
      "cell_type": "code",
      "source": [
        "def PCA(train_data):\n",
        "  mean=np.mean(train_data, axis=0) #computing the mean\n",
        "  z=train_data-mean  #centeralization of the data\n",
        "  cov_Matrix=np.cov(z.T) #getting the covariance matrix \n",
        "  print(np.shape(cov_Matrix))\n",
        "  eigen_values,eigen_vectors = np.linalg.eigh(cov_Matrix) #getting the eigen values and vectors \n",
        "  idx = eigen_values.argsort()[::-1]   \n",
        "  eigen_values = eigen_values[idx] # ordering the eigen values\n",
        "  eigen_vectors = eigen_vectors[:,idx]\n",
        "  eigen_values_sum=np.sum(eigen_values)\n",
        "  return eigen_values, eigen_vectors, eigen_values_sum"
      ],
      "metadata": {
        "id": "oSxa7Ot0J8Lg"
      },
      "execution_count": null,
      "outputs": []
    },
    {
      "cell_type": "code",
      "source": [
        "#determine how many columns will be taken from the eigen vectors\n",
        "def PCA_alpha(alpha, eigen_vectors, eigen_values, eigen_values_sum, train_data, test_data):\n",
        "  r=0\n",
        "  ratio=0\n",
        "  while ratio<alpha :\n",
        "    ratio=ratio+eigen_values[r]/eigen_values_sum\n",
        "    r=r+1\n",
        "  projection_matrix_pca= eigen_vectors[:, 0:r]  #projection_matrix\n",
        "  print(np.shape(projection_matrix_pca))\n",
        "  train_data_pca =np.dot(train_data,projection_matrix_pca)\n",
        "  test_data_pca=np.dot(test_data,projection_matrix_pca)\n",
        "  return train_data_pca,test_data_pca"
      ],
      "metadata": {
        "id": "8sZ18T85KEvo"
      },
      "execution_count": null,
      "outputs": []
    },
    {
      "cell_type": "markdown",
      "source": [
        "**Evaluation of PCA for different alpha values**"
      ],
      "metadata": {
        "id": "-8F08ovNDLze"
      }
    },
    {
      "cell_type": "code",
      "source": [
        "def PCA_evaluate(train_data, test_data, train_labels, test_labels):\n",
        "  alpha=[0.8,0.85,0.9,0.95]\n",
        "  # alpha=[0.85]\n",
        "  best_accuracy_of_k=[]\n",
        "  eigen_values, eigen_vectors, eigen_values_sum = PCA(train_data)\n",
        "  for a in alpha :\n",
        "    train_pca,test_pca=PCA_alpha(a, eigen_vectors, eigen_values, eigen_values_sum, train_data, test_data)\n",
        "    acc,k=knn_train(train_pca,train_labels,test_pca,test_labels)\n",
        "    # print(\"Alpha = \", a)\n",
        "    # print(\"Best accuracy = \", max(acc), \" Best k = \", k[acc.index(max(acc))])\n",
        "    #plot(acc,k, \"K-value\", \"Accuracy\")\n",
        "    best_accuracy_of_k.append(max(acc))\n",
        "  #plot(best_accuracy_of_k,alpha, \"Alpha\", \"Best Accuracy\")\n",
        "  return best_accuracy_of_k"
      ],
      "metadata": {
        "id": "WjJu-0ZgKPIx"
      },
      "execution_count": null,
      "outputs": []
    },
    {
      "cell_type": "markdown",
      "source": [
        "**PCA With Cross Validation**"
      ],
      "metadata": {
        "id": "GVZW6ml0DZbb"
      }
    },
    {
      "cell_type": "code",
      "source": [
        "def PCA_cross_valid(train_data, test_data, train_labels, test_labels):\n",
        "  alpha=[0.8,0.85,0.9,0.95]\n",
        "  best_accuracy_of_k=[]\n",
        "  eigen_values, eigen_vectors, eigen_values_sum = PCA(train_data)\n",
        "  for a in alpha :\n",
        "    train_pca,test_pca=PCA_alpha(a, eigen_vectors, eigen_values, eigen_values_sum)\n",
        "    k,acc=knn_cross_valid(train_pca,train_labels,test_pca,test_labels)\n",
        "    best_accuracy_of_k.append(max(acc))\n",
        "    print(\"Alpha = \", a)\n",
        "    print(\"Best accuracy = \", max(acc))\n",
        "  return max(best_accuracy_of_k)"
      ],
      "metadata": {
        "id": "Kz1RxPWvEdzN"
      },
      "execution_count": null,
      "outputs": []
    },
    {
      "cell_type": "markdown",
      "source": [
        "# **KNN Model**"
      ],
      "metadata": {
        "id": "xoeKMsN9JCyt"
      }
    },
    {
      "cell_type": "markdown",
      "source": [
        "**Training**"
      ],
      "metadata": {
        "id": "kP-JTYK-KX0e"
      }
    },
    {
      "cell_type": "code",
      "source": [
        "from sklearn.neighbors import KNeighborsClassifier\n",
        "from sklearn.metrics import accuracy_score\n",
        "def knn_train(train_data, train_labels, test_data, test_labels):\n",
        "  acc = []\n",
        "  k = [1, 3, 5, 7]\n",
        "  max_acc = 0\n",
        "  for i in k:\n",
        "    classifier = KNeighborsClassifier(n_neighbors = i, metric = 'minkowski', p = 2) #P = 2 : Euclidean distance\n",
        "    classifier.fit(train_data, train_labels)\n",
        "    y_pred = classifier.predict(test_data)\n",
        "    accuracy = accuracy_score(test_labels,y_pred)\n",
        "    acc.append(accuracy)\n",
        "  return acc, k"
      ],
      "metadata": {
        "id": "cBGEru9dJEo9"
      },
      "execution_count": null,
      "outputs": []
    },
    {
      "cell_type": "markdown",
      "source": [
        "**KNN With Cross Validation**"
      ],
      "metadata": {
        "id": "e2yoMB-iyOAg"
      }
    },
    {
      "cell_type": "code",
      "source": [
        "from sklearn.model_selection import cross_val_score, cross_val_predict\n",
        "def knn_cross_valid(train_data, train_labels, test_data, test_labels):\n",
        "  k = [1]\n",
        "  k_scores = []\n",
        "  acc = []\n",
        "  for i in k:\n",
        "    classifier = KNeighborsClassifier(n_neighbors = i, metric = 'minkowski', p = 2) #P = 2 : Euclidean distance\n",
        "    scores = cross_val_score(classifier, train_data, train_labels, cv=5, scoring='accuracy')\n",
        "    k_scores.append(scores.mean())\n",
        "    predictions = cross_val_predict(classifier, test_data, test_labels, cv=5)\n",
        "    accuracy = metrics.r2_score(test_labels, predictions)\n",
        "    acc.append(accuracy)\n",
        "  return k_scores, acc"
      ],
      "metadata": {
        "id": "fBuxRvv0yNpA"
      },
      "execution_count": null,
      "outputs": []
    },
    {
      "cell_type": "markdown",
      "source": [
        "**Plot Accuracy Vs. K**"
      ],
      "metadata": {
        "id": "AZI4Dq5CJO7h"
      }
    },
    {
      "cell_type": "code",
      "source": [
        "import matplotlib.pyplot as plt\n",
        "def plot(acc, k, x_axis, y_axis):\n",
        "  plt.figure(figsize=(10,6))\n",
        "  plt.plot(k,acc,color = 'blue',linestyle='dashed', \n",
        "          marker='o',markerfacecolor='red', markersize=10)\n",
        "  plt.title(str(y_axis) + \" vs. \" +  str(x_axis))\n",
        "  plt.xlabel(x_axis)\n",
        "  plt.ylabel(y_axis)"
      ],
      "metadata": {
        "id": "xAxNAZv4JYbJ"
      },
      "execution_count": null,
      "outputs": []
    },
    {
      "cell_type": "markdown",
      "source": [
        "# **Faces Dataset Preparation**"
      ],
      "metadata": {
        "id": "SsZ768WJHcL5"
      }
    },
    {
      "cell_type": "code",
      "source": [
        "from skimage.io import imread\n",
        "import numpy as np\n",
        "from zipfile import ZipFile\n",
        "!unzip archive.zip -d dataset"
      ],
      "metadata": {
        "id": "xvZ7iqjwHu5u",
        "colab": {
          "base_uri": "https://localhost:8080/"
        },
        "outputId": "ce84d045-2a7c-4965-c8cc-2cc6272cf5b8"
      },
      "execution_count": null,
      "outputs": [
        {
          "output_type": "stream",
          "name": "stdout",
          "text": [
            "Archive:  archive.zip\n",
            "replace dataset/README? [y]es, [n]o, [A]ll, [N]one, [r]ename: "
          ]
        }
      ]
    },
    {
      "cell_type": "code",
      "source": [
        "import os\n",
        "dataset = []\n",
        "labels = []\n",
        "for filename in os.listdir('dataset'): #loop through the 40 subject folders in dataset folder\n",
        "  if(filename[0] == 's'):\n",
        "    id = int(filename[1:]) #subject's id\n",
        "    for image in os.listdir('dataset/'+filename): #loop through each pgm image in the subject's folder\n",
        "      img = imread('dataset/'+filename+'/'+image) #read the image\n",
        "      # img = np.append(img,id)\n",
        "      labels.append(id) #add the subject's id to labels\n",
        "      dataset.append(np.ndarray.flatten(img)) #flatten the image (convert it into a vector of 10304 values) and append it to the dataset\n",
        "dataset = np.array(dataset) \n",
        "labels = np.array(labels)\n",
        "print(np.shape(dataset)) #(400, 10304) : 400 images and 10304 attributes\n",
        "print(np.shape(labels)) #(400) : a label for each image"
      ],
      "metadata": {
        "id": "R8VI6AsrHyG6",
        "colab": {
          "base_uri": "https://localhost:8080/"
        },
        "outputId": "0922c8b6-63d7-4354-b922-71e57dbe6a50"
      },
      "execution_count": null,
      "outputs": [
        {
          "output_type": "stream",
          "name": "stdout",
          "text": [
            "(400, 10304)\n",
            "(400,)\n"
          ]
        }
      ]
    },
    {
      "cell_type": "markdown",
      "source": [
        "**Train-test Split: Odd Rows For Train Data and Even Ones For Test Data**"
      ],
      "metadata": {
        "id": "IzWAxF1sDqb1"
      }
    },
    {
      "cell_type": "code",
      "source": [
        "train_data = dataset[1::2] #odd rows for train data\n",
        "train_labels = labels[1::2] \n",
        "test_data = dataset[::2] #even rows for test data\n",
        "test_labels = labels[::2]\n",
        "n_of_features = np.shape(train_data)[1]\n",
        "print(np.shape(train_data))"
      ],
      "metadata": {
        "id": "LSh5x15OH6p-",
        "colab": {
          "base_uri": "https://localhost:8080/"
        },
        "outputId": "163c1f78-cc54-4291-8af0-932c88fd531e"
      },
      "execution_count": null,
      "outputs": [
        {
          "output_type": "stream",
          "name": "stdout",
          "text": [
            "(200, 10304)\n"
          ]
        }
      ]
    },
    {
      "cell_type": "markdown",
      "source": [
        "#**Bonus part**"
      ],
      "metadata": {
        "id": "dep0j56xIDya"
      }
    },
    {
      "cell_type": "code",
      "source": [
        "from sklearn.model_selection import StratifiedShuffleSplit\n",
        "sss = StratifiedShuffleSplit(n_splits=5, test_size=0.3, random_state=0)\n",
        "sss.get_n_splits(dataset, labels)\n",
        "for train_index, test_index in sss.split(dataset, labels):\n",
        "  X_train, X_test = dataset[train_index], dataset[test_index]\n",
        "  y_train, y_test = labels[train_index], labels[test_index]\n",
        "\n",
        "#check the counts of different labels\n",
        "unique, counts = np.unique(y_train, return_counts=True)\n",
        "dict(zip(unique, counts))\n",
        "unique, counts = np.unique(y_test, return_counts=True)\n",
        "print(dict(zip(unique, counts)))\n",
        "train_data, test_data, train_labels, test_labels = X_train, X_test, y_train, y_test\n",
        "n_of_features = np.shape(train_data)[1]"
      ],
      "metadata": {
        "id": "NB_PH7UHINhx",
        "colab": {
          "base_uri": "https://localhost:8080/"
        },
        "outputId": "0cf0b4a0-8980-421e-f7a2-39319fe48a2d"
      },
      "execution_count": null,
      "outputs": [
        {
          "output_type": "stream",
          "name": "stdout",
          "text": [
            "{1: 3, 2: 3, 3: 3, 4: 3, 5: 3, 6: 3, 7: 3, 8: 3, 9: 3, 10: 3, 11: 3, 12: 3, 13: 3, 14: 3, 15: 3, 16: 3, 17: 3, 18: 3, 19: 3, 20: 3, 21: 3, 22: 3, 23: 3, 24: 3, 25: 3, 26: 3, 27: 3, 28: 3, 29: 3, 30: 3, 31: 3, 32: 3, 33: 3, 34: 3, 35: 3, 36: 3, 37: 3, 38: 3, 39: 3, 40: 3}\n"
          ]
        }
      ]
    },
    {
      "cell_type": "markdown",
      "source": [
        "#**Applying LDA & KNN On The Faces Dataset**"
      ],
      "metadata": {
        "id": "FB3SV0ZdmE5h"
      }
    },
    {
      "cell_type": "code",
      "source": [
        "eigen_values, eigen_vectors = LDA(train_data, train_labels)\n",
        "projection_matrix = eigen_vectors[:,:39] #construct projection matrix"
      ],
      "metadata": {
        "id": "6O644YYkIhvs"
      },
      "execution_count": null,
      "outputs": []
    },
    {
      "cell_type": "markdown",
      "source": [
        "Save Projection matrix in a text file"
      ],
      "metadata": {
        "id": "VCUcWQbeIl0-"
      }
    },
    {
      "cell_type": "code",
      "source": [
        "np.savetxt('test.txt',projection_matrix , delimiter=',')"
      ],
      "metadata": {
        "id": "wD6if2DiInJz"
      },
      "execution_count": null,
      "outputs": []
    },
    {
      "cell_type": "markdown",
      "source": [
        "Upload projection matrix"
      ],
      "metadata": {
        "id": "LUaqB8fqIuPM"
      }
    },
    {
      "cell_type": "code",
      "source": [
        "from numpy import genfromtxt\n",
        "projection_matrix = genfromtxt('test.txt', delimiter=',')\n",
        "print(type(projection_matrix))\n",
        "print(np.shape(projection_matrix))"
      ],
      "metadata": {
        "id": "z8Wn68DzIvhW"
      },
      "execution_count": null,
      "outputs": []
    },
    {
      "cell_type": "markdown",
      "source": [
        "Projection of Data into The 39 Dimensions"
      ],
      "metadata": {
        "id": "dM0dMqVKI1MM"
      }
    },
    {
      "cell_type": "code",
      "source": [
        "#Data : 200 * 10304,  U : 10304 * 39 \n",
        "train_data_LDA = np.dot(train_data, projection_matrix)\n",
        "test_data_LDA = np.dot(test_data, projection_matrix)\n",
        "print(np.shape(train_data_LDA), np.shape(test_data_LDA))"
      ],
      "metadata": {
        "id": "6UQ5eD1II2z2",
        "colab": {
          "base_uri": "https://localhost:8080/"
        },
        "outputId": "f5b6945b-6daf-4d72-c427-39a28729cadf"
      },
      "execution_count": null,
      "outputs": [
        {
          "output_type": "stream",
          "name": "stdout",
          "text": [
            "(280, 39) (120, 39)\n"
          ]
        }
      ]
    },
    {
      "cell_type": "markdown",
      "source": [
        "**LDA Evaluation**"
      ],
      "metadata": {
        "id": "LxvZpfnnJcAq"
      }
    },
    {
      "cell_type": "code",
      "source": [
        "acc, k = knn_train(train_data_LDA, train_labels, test_data_LDA, test_labels)\n",
        "print(\"Maximum_accuracy\", max(acc))\n",
        "print(\"Best K value\", k[acc.index(max(acc))])\n",
        "#plot accuracy vs K\n",
        "plot(acc, k, \"K-value\", \"Accuracy\")"
      ],
      "metadata": {
        "id": "St9nBvg1JiC4",
        "colab": {
          "base_uri": "https://localhost:8080/",
          "height": 438
        },
        "outputId": "07018bd6-dacb-43ef-8fa5-835d2a75602b"
      },
      "execution_count": null,
      "outputs": [
        {
          "output_type": "stream",
          "name": "stdout",
          "text": [
            "Maximum_accuracy 0.9416666666666667\n",
            "Best K value 1\n"
          ]
        },
        {
          "output_type": "display_data",
          "data": {
            "text/plain": [
              "<Figure size 720x432 with 1 Axes>"
            ],
            "image/png": "[encoded data removed]"
          },
          "metadata": {
            "needs_background": "light"
          }
        }
      ]
    },
    {
      "cell_type": "markdown",
      "source": [
        "#**Applying PCA & KNN On The Faces Dataset**"
      ],
      "metadata": {
        "id": "cB9mqICWntyg"
      }
    },
    {
      "cell_type": "code",
      "source": [
        "accur = PCA_evaluate(train_data, test_data, train_labels, test_labels)\n",
        "print(max(accur))"
      ],
      "metadata": {
        "id": "54R-G_gGqbeX"
      },
      "execution_count": null,
      "outputs": []
    },
    {
      "cell_type": "markdown",
      "source": [
        "#**Face vs Non-face Images**"
      ],
      "metadata": {
        "id": "bRxKu6wgsHqm"
      }
    },
    {
      "cell_type": "markdown",
      "source": [
        "**Convert Image to Pmg**"
      ],
      "metadata": {
        "id": "bFZ-_0-psLGF"
      }
    },
    {
      "cell_type": "code",
      "source": [
        "import cv2\n",
        "import numpy as np\n",
        "def convert_image(filename):\n",
        "    x = cv2.imread(filename, cv2.IMREAD_GRAYSCALE) #convert to pgm\n",
        "    x = cv2.resize(x, (112, 92)) \n",
        "    npfeatures = np.array(x)\n",
        "    return npfeatures"
      ],
      "metadata": {
        "id": "Sle02jPFsMrJ"
      },
      "execution_count": null,
      "outputs": []
    },
    {
      "cell_type": "markdown",
      "source": [
        "**Construct Non-face Dataset**"
      ],
      "metadata": {
        "id": "6tjeAJtEsXAv"
      }
    },
    {
      "cell_type": "code",
      "source": [
        "from zipfile import ZipFile\n",
        "!unzip images.zip -d new\n",
        "import os\n",
        "non_face = []\n",
        "for filename in os.listdir('new'): \n",
        "  img = convert_image(\"new/\" + filename) #convert to pgm\n",
        "  non_face.append(np.ndarray.flatten(img)) #flatten the image (convert it into a vector of 10304 values) and append it to the dataset\n",
        "non_face = np.array(non_face) \n",
        "print(np.shape(non_face)) #(400, 10304) : 400 images and 10304 attributes"
      ],
      "metadata": {
        "id": "jiR1M0cOwfpy"
      },
      "execution_count": null,
      "outputs": []
    },
    {
      "cell_type": "code",
      "source": [
        "label_ones = np.full(400, 1)\n",
        "label_zeros = np.full(400, 0)\n",
        "face = dataset\n",
        "print(np.shape(face))\n",
        "print(np.shape(non_face))"
      ],
      "metadata": {
        "id": "6ybA5mp63i_Q",
        "colab": {
          "base_uri": "https://localhost:8080/"
        },
        "outputId": "8c98c4bd-e42d-4e43-d2f1-e9b63911176a"
      },
      "execution_count": null,
      "outputs": [
        {
          "output_type": "stream",
          "name": "stdout",
          "text": [
            "(400, 10304)\n",
            "(400, 10304)\n"
          ]
        }
      ]
    },
    {
      "cell_type": "markdown",
      "source": [
        "**Train-test Split: 50% For Train Data and 50% For Test Data**"
      ],
      "metadata": {
        "id": "j5A2h_k3sk-M"
      }
    },
    {
      "cell_type": "code",
      "source": [
        "from sklearn.model_selection import train_test_split\n",
        "data = np.vstack((face, non_face))\n",
        "lbls = np.hstack((label_ones, label_zeros))\n",
        "print(np.shape(lbls))\n",
        "data_train, data_test, label_train, label_test = train_test_split(data, lbls, test_size=0.5, random_state =42)\n",
        "print(np.shape(data_train), np.shape(data_test), np.shape(label_train), np.shape(label_test))"
      ],
      "metadata": {
        "id": "G0uHJOmk6fPU"
      },
      "execution_count": null,
      "outputs": []
    },
    {
      "cell_type": "markdown",
      "source": [
        "#**Applying LDA & PCA On Face vs Non-face Dataset**"
      ],
      "metadata": {
        "id": "5mZjZUkftW64"
      }
    },
    {
      "cell_type": "markdown",
      "source": [
        "**Determining The Dominant Number of Eigenvectors For The Face vs Non-face Dataset**"
      ],
      "metadata": {
        "id": "gApsxCpVE9_H"
      }
    },
    {
      "cell_type": "code",
      "source": [
        "accuracy = []\n",
        "for i in range(1, 200) :\n",
        "  projection_matrix = eigen_vecs[:,:i] #construct projection matrix\n",
        "  data_train_LDA = np.dot(data_train, projection_matrix)\n",
        "  data_test_LDA = np.dot(data_test, projection_matrix)\n",
        "  ac, k = knn_train(data_train_LDA, label_train, data_test_LDA, label_test)\n",
        "  accuracy.append(max(ac))\n",
        "  print(i)"
      ],
      "metadata": {
        "id": "NSqWBTez1NAy"
      },
      "execution_count": null,
      "outputs": []
    },
    {
      "cell_type": "code",
      "source": [
        "values = list(range(1, 200))\n",
        "np.savetxt('accuracy.txt',accuracy , delimiter=',')\n",
        "plot(accuracy, values,\"No of eigen vectors\", \"Accuracy\")\n",
        "print(accuracy)\n",
        "print(\"Max accuracy: \", max(accuracy))\n",
        "print(\"Corresponding number of eigen vectors\", accuracy.index(max(accuracy)))"
      ],
      "metadata": {
        "colab": {
          "base_uri": "https://localhost:8080/",
          "height": 476
        },
        "id": "DrE6RnbyFQA4",
        "outputId": "78991e7e-3cf8-410f-c410-6cbfe6ba1d4f"
      },
      "execution_count": null,
      "outputs": [
        {
          "output_type": "stream",
          "name": "stdout",
          "text": [
            "[0.785, 0.975, 0.9875, 0.995, 0.9975, 0.9975, 0.995, 0.995, 0.995, 0.995, 0.9925, 0.9925, 0.995, 0.9975, 0.9975, 0.9975, 0.995, 0.995, 0.9975, 0.9975, 1.0, 1.0, 1.0, 1.0, 1.0, 1.0, 1.0, 1.0, 0.9975, 0.9975, 0.9975, 0.9975, 0.995, 0.995, 0.995, 0.9975, 0.9975, 0.995, 0.995, 0.995, 0.995, 0.995, 0.995, 0.995, 0.9975, 0.9975, 0.995, 0.995, 0.995, 0.995, 0.995, 0.995, 0.995, 0.995, 0.995, 0.995, 0.995, 0.995, 0.9975, 0.9975, 0.9975, 0.9975, 0.9975, 0.9975, 0.9975, 0.9975, 0.9975, 0.9975, 0.9975, 0.9975, 0.9975, 0.9975, 0.9975, 0.9975, 0.9975, 0.9975, 0.9975, 0.9975, 0.9975, 0.9975, 0.9975, 0.9975, 0.9975, 0.9975, 0.9975, 0.9975, 0.9975, 0.9975, 0.9975, 0.9975, 0.9975, 0.9975, 0.9975, 0.9975, 0.9975, 0.9975, 0.9975, 0.9975, 0.9975, 0.9975, 0.9975, 0.9975, 0.9975, 0.9975, 0.9975, 0.9975, 0.9975, 0.9975, 0.9975, 0.9975, 0.9975, 0.9975, 0.9975, 0.9975, 0.9975, 0.9975, 0.9975, 0.9975, 0.9975, 0.9975, 0.9975, 0.9975, 0.9975, 0.9975, 0.9975, 0.9975, 0.9975, 0.9975, 0.9975, 0.9975, 0.9975, 0.9975, 0.9975, 0.9975, 0.9975, 0.9975, 0.9975, 0.9975, 0.9975, 0.9975, 0.9975, 0.9975, 0.9975, 0.9975, 0.9975, 0.9975, 0.9975, 0.9975, 0.9975, 0.9975, 0.9975, 0.9975, 0.9975, 0.9975, 0.9975, 0.9975, 0.9975, 0.9975, 0.9975, 0.9975, 0.9975, 0.9975, 0.9975, 0.9975, 0.9975, 0.9975, 0.9975, 0.9975, 0.9975, 0.9975, 0.9975, 0.9975, 0.9975, 0.9975, 0.9975, 0.9975, 0.9975, 0.9975, 0.9975, 0.9975, 0.9975, 0.9975, 0.9975, 0.9975, 0.9975, 0.9975, 0.9975, 0.9975, 0.9975, 0.995, 0.9975, 0.9975, 0.9975, 0.9975, 0.9975, 0.9975, 0.9975, 0.9975, 0.9975]\n",
            "Max accuracy:  1.0\n",
            "Corresponding number of eigen vectors 20\n"
          ]
        },
        {
          "output_type": "display_data",
          "data": {
            "text/plain": [
              "<Figure size 720x432 with 1 Axes>"
            ],
            "image/png": "[encoded data removed]"
          },
          "metadata": {
            "needs_background": "light"
          }
        }
      ]
    },
    {
      "cell_type": "markdown",
      "source": [
        "**Applying LDA ON Face vs. Non-face Dataset While Changing The Number of Non-face Images**"
      ],
      "metadata": {
        "id": "I-F4U-R9FfCu"
      }
    },
    {
      "cell_type": "code",
      "source": [
        "def LDA_no_non_face(faces, non_faces):\n",
        "  accuracy = []\n",
        "  num = []\n",
        "  for i in range(100, 401, 100) :\n",
        "    data = np.vstack((faces, non_faces[0:i, :]))\n",
        "    label_ones = np.full(400, 1)\n",
        "    label_zeros = np.full(i, 0)\n",
        "    lbls = np.hstack((label_ones, label_zeros))\n",
        "    data_train, data_test, label_train, label_test = train_test_split(data, lbls, test_size=0.5, random_state =42) #train-test split\n",
        "    eigen_vals, eigen_vecs = LDA(data_train, label_train)\n",
        "    projection_matrix = eigen_vecs[:,:20] #construct projection matrix\n",
        "    data_train_LDA = np.dot(data_train, projection_matrix)\n",
        "    data_test_LDA = np.dot(data_test, projection_matrix)\n",
        "    ac, k = knn_train(data_train_LDA, label_train, data_test_LDA, label_test) #knn training\n",
        "    accuracy.append(max(ac))\n",
        "    print(np.shape(data_train), np.shape(data_test), np.shape(data_test), np.shape(label_test))\n",
        "    num.append(i)\n",
        "  plot(accuracy, num, \"Number of non-face images\", \"Accuracy\")\n",
        "  "
      ],
      "metadata": {
        "id": "eefYjrl_KQh5"
      },
      "execution_count": null,
      "outputs": []
    },
    {
      "cell_type": "code",
      "source": [
        "LDA_no_non_face(face, non_face)"
      ],
      "metadata": {
        "colab": {
          "base_uri": "https://localhost:8080/",
          "height": 702
        },
        "id": "X-SPvTIyWVLy",
        "outputId": "dc1dd1d0-b5fd-474e-cec6-85f03f59495c"
      },
      "execution_count": null,
      "outputs": [
        {
          "output_type": "stream",
          "name": "stderr",
          "text": [
            "/usr/local/lib/python3.7/dist-packages/numpy/core/fromnumeric.py:1970: VisibleDeprecationWarning: Creating an ndarray from ragged nested sequences (which is a list-or-tuple of lists-or-tuples-or ndarrays with different lengths or shapes) is deprecated. If you meant to do this, you must specify 'dtype=object' when creating the ndarray.\n",
            "  result = asarray(a).shape\n"
          ]
        },
        {
          "output_type": "stream",
          "name": "stdout",
          "text": [
            "(2,)\n",
            "(250, 10304) (250, 10304) (250, 10304) (250,)\n",
            "(2,)\n"
          ]
        },
        {
          "output_type": "stream",
          "name": "stderr",
          "text": [
            "/usr/local/lib/python3.7/dist-packages/numpy/core/fromnumeric.py:1970: VisibleDeprecationWarning: Creating an ndarray from ragged nested sequences (which is a list-or-tuple of lists-or-tuples-or ndarrays with different lengths or shapes) is deprecated. If you meant to do this, you must specify 'dtype=object' when creating the ndarray.\n",
            "  result = asarray(a).shape\n"
          ]
        },
        {
          "output_type": "stream",
          "name": "stdout",
          "text": [
            "(300, 10304) (300, 10304) (300, 10304) (300,)\n",
            "(2,)\n"
          ]
        },
        {
          "output_type": "stream",
          "name": "stderr",
          "text": [
            "/usr/local/lib/python3.7/dist-packages/numpy/core/fromnumeric.py:1970: VisibleDeprecationWarning: Creating an ndarray from ragged nested sequences (which is a list-or-tuple of lists-or-tuples-or ndarrays with different lengths or shapes) is deprecated. If you meant to do this, you must specify 'dtype=object' when creating the ndarray.\n",
            "  result = asarray(a).shape\n"
          ]
        },
        {
          "output_type": "stream",
          "name": "stdout",
          "text": [
            "(350, 10304) (350, 10304) (350, 10304) (350,)\n",
            "(2,)\n"
          ]
        },
        {
          "output_type": "stream",
          "name": "stderr",
          "text": [
            "/usr/local/lib/python3.7/dist-packages/numpy/core/fromnumeric.py:1970: VisibleDeprecationWarning: Creating an ndarray from ragged nested sequences (which is a list-or-tuple of lists-or-tuples-or ndarrays with different lengths or shapes) is deprecated. If you meant to do this, you must specify 'dtype=object' when creating the ndarray.\n",
            "  result = asarray(a).shape\n"
          ]
        },
        {
          "output_type": "stream",
          "name": "stdout",
          "text": [
            "(400, 10304) (400, 10304) (400, 10304) (400,)\n"
          ]
        },
        {
          "output_type": "display_data",
          "data": {
            "text/plain": [
              "<Figure size 720x432 with 1 Axes>"
            ],
            "image/png": "[encoded data removed]"
          },
          "metadata": {
            "needs_background": "light"
          }
        }
      ]
    },
    {
      "cell_type": "markdown",
      "source": [
        "\n",
        "**Applying PCA ON Face vs. Non-face Dataset While Changing The Number of Non-face Images**"
      ],
      "metadata": {
        "id": "uUEOXyS8ttTD"
      }
    },
    {
      "cell_type": "code",
      "source": [
        "def PCA_no_non_face(faces, non_faces):\n",
        "  accuracy = []\n",
        "  num = []\n",
        "  for i in range(20, 401, 20) :\n",
        "    data = np.vstack((faces, non_faces[0:i, :]))\n",
        "    label_ones = np.full(400, 1)\n",
        "    label_zeros = np.full(i, 0)\n",
        "    lbls = np.hstack((label_ones, label_zeros))\n",
        "    data_train, data_test, label_train, label_test = train_test_split(data, lbls, test_size=0.5, random_state =42)\n",
        "    ac = PCA_evaluate(data_train, data_test, label_train, label_test)\n",
        "    accuracy.append(max(ac))\n",
        "    num.append(i)\n",
        "  plot(accuracy, num, \"Number of non-face images\", \"Accuracy\")"
      ],
      "metadata": {
        "id": "K0s24osvPRnf"
      },
      "execution_count": null,
      "outputs": []
    },
    {
      "cell_type": "code",
      "source": [
        "PCA_no_non_face(face, non_face)"
      ],
      "metadata": {
        "id": "R9z0cjdVW-OD"
      },
      "execution_count": null,
      "outputs": []
    },
    {
      "cell_type": "markdown",
      "source": [
        "#Visualization Using Decision Trees"
      ],
      "metadata": {
        "id": "rN8IFl3-wZQH"
      }
    },
    {
      "cell_type": "code",
      "source": [
        "from sklearn import tree\n",
        "clf = tree.DecisionTreeClassifier()\n",
        "clf = clf.fit(data_train, label_train)\n",
        "tree.plot_tree(clf)"
      ],
      "metadata": {
        "id": "xCbPCa1pJh13"
      },
      "execution_count": null,
      "outputs": []
    },
    {
      "cell_type": "code",
      "source": [
        "import graphviz \n",
        "dot_data = tree.export_graphviz(clf, out_file=None) \n",
        "graph = graphviz.Source(dot_data) \n",
        "dot_data = tree.export_graphviz(clf, out_file=None, \n",
        "                    class_names=[\"Face\", \"Non-face\"],  \n",
        "                    filled=True, rounded=True,  \n",
        "                    special_characters=True)  \n",
        "graph = graphviz.Source(dot_data)  \n",
        "graph "
      ],
      "metadata": {
        "colab": {
          "base_uri": "https://localhost:8080/",
          "height": 903
        },
        "id": "fiRjU7F1v1QM",
        "outputId": "d379f993-f87a-4c21-e0a8-78ac6adb9980"
      },
      "execution_count": null,
      "outputs": [
        {
          "output_type": "execute_result",
          "data": {
            "text/plain": [
              "<graphviz.files.Source at 0x7f17b75696d0>"
            ],
            "image/svg+xml": "<?xml version=\"1.0\" encoding=\"UTF-8\" standalone=\"no\"?>\n<!DOCTYPE svg PUBLIC \"-//W3C//DTD SVG 1.1//EN\"\n \"http://www.w3.org/Graphics/SVG/1.1/DTD/svg11.dtd\">\n<!-- Generated by graphviz version 2.40.1 (20161225.0304)\n -->\n<!-- Title: Tree Pages: 1 -->\n<svg width=\"950pt\" height=\"646pt\"\n viewBox=\"0.00 0.00 949.50 646.00\" xmlns=\"http://www.w3.org/2000/svg\" xmlns:xlink=\"http://www.w3.org/1999/xlink\">\n<g id=\"graph0\" class=\"graph\" transform=\"scale(1 1) rotate(0) translate(4 642)\">\n<title>Tree</title>\n<polygon fill=\"#ffffff\" stroke=\"transparent\" points=\"-4,4 -4,-642 945.5,-642 945.5,4 -4,4\"/>\n<!-- 0 -->\n<g id=\"node1\" class=\"node\">\n<title>0</title>\n<path fill=\"#fdf8f3\" stroke=\"#000000\" d=\"M584.5,-638C584.5,-638 476.5,-638 476.5,-638 470.5,-638 464.5,-632 464.5,-626 464.5,-626 464.5,-572 464.5,-572 464.5,-566 470.5,-560 476.5,-560 476.5,-560 584.5,-560 584.5,-560 590.5,-560 596.5,-566 596.5,-572 596.5,-572 596.5,-626 596.5,-626 596.5,-632 590.5,-638 584.5,-638\"/>\n<text text-anchor=\"start\" x=\"485.5\" y=\"-623.8\" font-family=\"Helvetica,sans-Serif\" font-size=\"14.00\" fill=\"#000000\">X</text>\n<text text-anchor=\"start\" x=\"495.5\" y=\"-623.8\" font-family=\"Helvetica,sans-Serif\" baseline-shift=\"sub\" font-size=\"14.00\" fill=\"#000000\">3861</text>\n<text text-anchor=\"start\" x=\"523.5\" y=\"-623.8\" font-family=\"Helvetica,sans-Serif\" font-size=\"14.00\" fill=\"#000000\"> ≤ 124.0</text>\n<text text-anchor=\"start\" x=\"501\" y=\"-609.8\" font-family=\"Helvetica,sans-Serif\" font-size=\"14.00\" fill=\"#000000\">gini = 0.5</text>\n<text text-anchor=\"start\" x=\"482.5\" y=\"-595.8\" font-family=\"Helvetica,sans-Serif\" font-size=\"14.00\" fill=\"#000000\">samples = 400</text>\n<text text-anchor=\"start\" x=\"472.5\" y=\"-581.8\" font-family=\"Helvetica,sans-Serif\" font-size=\"14.00\" fill=\"#000000\">value = [206, 194]</text>\n<text text-anchor=\"start\" x=\"489\" y=\"-567.8\" font-family=\"Helvetica,sans-Serif\" font-size=\"14.00\" fill=\"#000000\">class = Face</text>\n</g>\n<!-- 1 -->\n<g id=\"node2\" class=\"node\">\n<title>1</title>\n<path fill=\"#90c8f0\" stroke=\"#000000\" d=\"M510,-524C510,-524 409,-524 409,-524 403,-524 397,-518 397,-512 397,-512 397,-458 397,-458 397,-452 403,-446 409,-446 409,-446 510,-446 510,-446 516,-446 522,-452 522,-458 522,-458 522,-512 522,-512 522,-518 516,-524 510,-524\"/>\n<text text-anchor=\"start\" x=\"414.5\" y=\"-509.8\" font-family=\"Helvetica,sans-Serif\" font-size=\"14.00\" fill=\"#000000\">X</text>\n<text text-anchor=\"start\" x=\"424.5\" y=\"-509.8\" font-family=\"Helvetica,sans-Serif\" baseline-shift=\"sub\" font-size=\"14.00\" fill=\"#000000\">6002</text>\n<text text-anchor=\"start\" x=\"452.5\" y=\"-509.8\" font-family=\"Helvetica,sans-Serif\" font-size=\"14.00\" fill=\"#000000\"> ≤ 110.5</text>\n<text text-anchor=\"start\" x=\"421.5\" y=\"-495.8\" font-family=\"Helvetica,sans-Serif\" font-size=\"14.00\" fill=\"#000000\">gini = 0.423</text>\n<text text-anchor=\"start\" x=\"411.5\" y=\"-481.8\" font-family=\"Helvetica,sans-Serif\" font-size=\"14.00\" fill=\"#000000\">samples = 276</text>\n<text text-anchor=\"start\" x=\"405.5\" y=\"-467.8\" font-family=\"Helvetica,sans-Serif\" font-size=\"14.00\" fill=\"#000000\">value = [84, 192]</text>\n<text text-anchor=\"start\" x=\"405\" y=\"-453.8\" font-family=\"Helvetica,sans-Serif\" font-size=\"14.00\" fill=\"#000000\">class = Non&#45;face</text>\n</g>\n<!-- 0&#45;&gt;1 -->\n<g id=\"edge1\" class=\"edge\">\n<title>0&#45;&gt;1</title>\n<path fill=\"none\" stroke=\"#000000\" d=\"M506.0658,-559.7677C500.655,-551.0798 494.8631,-541.7801 489.2664,-532.794\"/>\n<polygon fill=\"#000000\" stroke=\"#000000\" points=\"492.2368,-530.9427 483.9792,-524.3046 486.2949,-534.6433 492.2368,-530.9427\"/>\n<text text-anchor=\"middle\" x=\"478.3193\" y=\"-544.9555\" font-family=\"Helvetica,sans-Serif\" font-size=\"14.00\" fill=\"#000000\">True</text>\n</g>\n<!-- 16 -->\n<g id=\"node17\" class=\"node\">\n<title>16</title>\n<path fill=\"#e5833c\" stroke=\"#000000\" d=\"M650.5,-524C650.5,-524 558.5,-524 558.5,-524 552.5,-524 546.5,-518 546.5,-512 546.5,-512 546.5,-458 546.5,-458 546.5,-452 552.5,-446 558.5,-446 558.5,-446 650.5,-446 650.5,-446 656.5,-446 662.5,-452 662.5,-458 662.5,-458 662.5,-512 662.5,-512 662.5,-518 656.5,-524 650.5,-524\"/>\n<text text-anchor=\"start\" x=\"563.5\" y=\"-509.8\" font-family=\"Helvetica,sans-Serif\" font-size=\"14.00\" fill=\"#000000\">X</text>\n<text text-anchor=\"start\" x=\"573.5\" y=\"-509.8\" font-family=\"Helvetica,sans-Serif\" baseline-shift=\"sub\" font-size=\"14.00\" fill=\"#000000\">3864</text>\n<text text-anchor=\"start\" x=\"601.5\" y=\"-509.8\" font-family=\"Helvetica,sans-Serif\" font-size=\"14.00\" fill=\"#000000\"> ≤ 37.5</text>\n<text text-anchor=\"start\" x=\"566.5\" y=\"-495.8\" font-family=\"Helvetica,sans-Serif\" font-size=\"14.00\" fill=\"#000000\">gini = 0.032</text>\n<text text-anchor=\"start\" x=\"556.5\" y=\"-481.8\" font-family=\"Helvetica,sans-Serif\" font-size=\"14.00\" fill=\"#000000\">samples = 124</text>\n<text text-anchor=\"start\" x=\"554.5\" y=\"-467.8\" font-family=\"Helvetica,sans-Serif\" font-size=\"14.00\" fill=\"#000000\">value = [122, 2]</text>\n<text text-anchor=\"start\" x=\"563\" y=\"-453.8\" font-family=\"Helvetica,sans-Serif\" font-size=\"14.00\" fill=\"#000000\">class = Face</text>\n</g>\n<!-- 0&#45;&gt;16 -->\n<g id=\"edge16\" class=\"edge\">\n<title>0&#45;&gt;16</title>\n<path fill=\"none\" stroke=\"#000000\" d=\"M555.9666,-559.7677C561.6061,-551.0798 567.6427,-541.7801 573.4759,-532.794\"/>\n<polygon fill=\"#000000\" stroke=\"#000000\" points=\"576.4774,-534.5981 578.9865,-524.3046 570.606,-530.7868 576.4774,-534.5981\"/>\n<text text-anchor=\"middle\" x=\"584.1891\" y=\"-545.0573\" font-family=\"Helvetica,sans-Serif\" font-size=\"14.00\" fill=\"#000000\">False</text>\n</g>\n<!-- 2 -->\n<g id=\"node3\" class=\"node\">\n<title>2</title>\n<path fill=\"#e78946\" stroke=\"#000000\" d=\"M367,-410C367,-410 284,-410 284,-410 278,-410 272,-404 272,-398 272,-398 272,-344 272,-344 272,-338 278,-332 284,-332 284,-332 367,-332 367,-332 373,-332 379,-338 379,-344 379,-344 379,-398 379,-398 379,-404 373,-410 367,-410\"/>\n<text text-anchor=\"start\" x=\"280.5\" y=\"-395.8\" font-family=\"Helvetica,sans-Serif\" font-size=\"14.00\" fill=\"#000000\">X</text>\n<text text-anchor=\"start\" x=\"290.5\" y=\"-395.8\" font-family=\"Helvetica,sans-Serif\" baseline-shift=\"sub\" font-size=\"14.00\" fill=\"#000000\">3974</text>\n<text text-anchor=\"start\" x=\"318.5\" y=\"-395.8\" font-family=\"Helvetica,sans-Serif\" font-size=\"14.00\" fill=\"#000000\"> ≤ 107.5</text>\n<text text-anchor=\"start\" x=\"287.5\" y=\"-381.8\" font-family=\"Helvetica,sans-Serif\" font-size=\"14.00\" fill=\"#000000\">gini = 0.112</text>\n<text text-anchor=\"start\" x=\"281.5\" y=\"-367.8\" font-family=\"Helvetica,sans-Serif\" font-size=\"14.00\" fill=\"#000000\">samples = 67</text>\n<text text-anchor=\"start\" x=\"280\" y=\"-353.8\" font-family=\"Helvetica,sans-Serif\" font-size=\"14.00\" fill=\"#000000\">value = [63, 4]</text>\n<text text-anchor=\"start\" x=\"284\" y=\"-339.8\" font-family=\"Helvetica,sans-Serif\" font-size=\"14.00\" fill=\"#000000\">class = Face</text>\n</g>\n<!-- 1&#45;&gt;2 -->\n<g id=\"edge2\" class=\"edge\">\n<title>1&#45;&gt;2</title>\n<path fill=\"none\" stroke=\"#000000\" d=\"M413.3848,-445.7677C402.4358,-436.4529 390.6601,-426.4347 379.3983,-416.8538\"/>\n<polygon fill=\"#000000\" stroke=\"#000000\" points=\"381.5847,-414.1187 371.7002,-410.3046 377.0489,-419.4503 381.5847,-414.1187\"/>\n</g>\n<!-- 7 -->\n<g id=\"node8\" class=\"node\">\n<title>7</title>\n<path fill=\"#4fa8e8\" stroke=\"#000000\" d=\"M510,-410C510,-410 409,-410 409,-410 403,-410 397,-404 397,-398 397,-398 397,-344 397,-344 397,-338 403,-332 409,-332 409,-332 510,-332 510,-332 516,-332 522,-338 522,-344 522,-344 522,-398 522,-398 522,-404 516,-410 510,-410\"/>\n<text text-anchor=\"start\" x=\"418.5\" y=\"-395.8\" font-family=\"Helvetica,sans-Serif\" font-size=\"14.00\" fill=\"#000000\">X</text>\n<text text-anchor=\"start\" x=\"428.5\" y=\"-395.8\" font-family=\"Helvetica,sans-Serif\" baseline-shift=\"sub\" font-size=\"14.00\" fill=\"#000000\">6276</text>\n<text text-anchor=\"start\" x=\"456.5\" y=\"-395.8\" font-family=\"Helvetica,sans-Serif\" font-size=\"14.00\" fill=\"#000000\"> ≤ 97.0</text>\n<text text-anchor=\"start\" x=\"421.5\" y=\"-381.8\" font-family=\"Helvetica,sans-Serif\" font-size=\"14.00\" fill=\"#000000\">gini = 0.181</text>\n<text text-anchor=\"start\" x=\"411.5\" y=\"-367.8\" font-family=\"Helvetica,sans-Serif\" font-size=\"14.00\" fill=\"#000000\">samples = 209</text>\n<text text-anchor=\"start\" x=\"405.5\" y=\"-353.8\" font-family=\"Helvetica,sans-Serif\" font-size=\"14.00\" fill=\"#000000\">value = [21, 188]</text>\n<text text-anchor=\"start\" x=\"405\" y=\"-339.8\" font-family=\"Helvetica,sans-Serif\" font-size=\"14.00\" fill=\"#000000\">class = Non&#45;face</text>\n</g>\n<!-- 1&#45;&gt;7 -->\n<g id=\"edge7\" class=\"edge\">\n<title>1&#45;&gt;7</title>\n<path fill=\"none\" stroke=\"#000000\" d=\"M459.5,-445.7677C459.5,-437.6172 459.5,-428.9283 459.5,-420.4649\"/>\n<polygon fill=\"#000000\" stroke=\"#000000\" points=\"463.0001,-420.3046 459.5,-410.3046 456.0001,-420.3047 463.0001,-420.3046\"/>\n</g>\n<!-- 3 -->\n<g id=\"node4\" class=\"node\">\n<title>3</title>\n<path fill=\"#e5833c\" stroke=\"#000000\" d=\"M233,-296C233,-296 150,-296 150,-296 144,-296 138,-290 138,-284 138,-284 138,-230 138,-230 138,-224 144,-218 150,-218 150,-218 233,-218 233,-218 239,-218 245,-224 245,-230 245,-230 245,-284 245,-284 245,-290 239,-296 233,-296\"/>\n<text text-anchor=\"start\" x=\"150.5\" y=\"-281.8\" font-family=\"Helvetica,sans-Serif\" font-size=\"14.00\" fill=\"#000000\">X</text>\n<text text-anchor=\"start\" x=\"160.5\" y=\"-281.8\" font-family=\"Helvetica,sans-Serif\" baseline-shift=\"sub\" font-size=\"14.00\" fill=\"#000000\">7529</text>\n<text text-anchor=\"start\" x=\"188.5\" y=\"-281.8\" font-family=\"Helvetica,sans-Serif\" font-size=\"14.00\" fill=\"#000000\"> ≤ 12.0</text>\n<text text-anchor=\"start\" x=\"153.5\" y=\"-267.8\" font-family=\"Helvetica,sans-Serif\" font-size=\"14.00\" fill=\"#000000\">gini = 0.031</text>\n<text text-anchor=\"start\" x=\"147.5\" y=\"-253.8\" font-family=\"Helvetica,sans-Serif\" font-size=\"14.00\" fill=\"#000000\">samples = 64</text>\n<text text-anchor=\"start\" x=\"146\" y=\"-239.8\" font-family=\"Helvetica,sans-Serif\" font-size=\"14.00\" fill=\"#000000\">value = [63, 1]</text>\n<text text-anchor=\"start\" x=\"150\" y=\"-225.8\" font-family=\"Helvetica,sans-Serif\" font-size=\"14.00\" fill=\"#000000\">class = Face</text>\n</g>\n<!-- 2&#45;&gt;3 -->\n<g id=\"edge3\" class=\"edge\">\n<title>2&#45;&gt;3</title>\n<path fill=\"none\" stroke=\"#000000\" d=\"M279.3848,-331.7677C268.4358,-322.4529 256.6601,-312.4347 245.3983,-302.8538\"/>\n<polygon fill=\"#000000\" stroke=\"#000000\" points=\"247.5847,-300.1187 237.7002,-296.3046 243.0489,-305.4503 247.5847,-300.1187\"/>\n</g>\n<!-- 6 -->\n<g id=\"node7\" class=\"node\">\n<title>6</title>\n<path fill=\"#399de5\" stroke=\"#000000\" d=\"M376,-291C376,-291 275,-291 275,-291 269,-291 263,-285 263,-279 263,-279 263,-235 263,-235 263,-229 269,-223 275,-223 275,-223 376,-223 376,-223 382,-223 388,-229 388,-235 388,-235 388,-279 388,-279 388,-285 382,-291 376,-291\"/>\n<text text-anchor=\"start\" x=\"296\" y=\"-275.8\" font-family=\"Helvetica,sans-Serif\" font-size=\"14.00\" fill=\"#000000\">gini = 0.0</text>\n<text text-anchor=\"start\" x=\"286\" y=\"-260.8\" font-family=\"Helvetica,sans-Serif\" font-size=\"14.00\" fill=\"#000000\">samples = 3</text>\n<text text-anchor=\"start\" x=\"284\" y=\"-245.8\" font-family=\"Helvetica,sans-Serif\" font-size=\"14.00\" fill=\"#000000\">value = [0, 3]</text>\n<text text-anchor=\"start\" x=\"271\" y=\"-230.8\" font-family=\"Helvetica,sans-Serif\" font-size=\"14.00\" fill=\"#000000\">class = Non&#45;face</text>\n</g>\n<!-- 2&#45;&gt;6 -->\n<g id=\"edge6\" class=\"edge\">\n<title>2&#45;&gt;6</title>\n<path fill=\"none\" stroke=\"#000000\" d=\"M325.5,-331.7677C325.5,-322.0161 325.5,-311.4937 325.5,-301.509\"/>\n<polygon fill=\"#000000\" stroke=\"#000000\" points=\"329.0001,-301.3535 325.5,-291.3535 322.0001,-301.3536 329.0001,-301.3535\"/>\n</g>\n<!-- 4 -->\n<g id=\"node5\" class=\"node\">\n<title>4</title>\n<path fill=\"#399de5\" stroke=\"#000000\" d=\"M113,-177C113,-177 12,-177 12,-177 6,-177 0,-171 0,-165 0,-165 0,-121 0,-121 0,-115 6,-109 12,-109 12,-109 113,-109 113,-109 119,-109 125,-115 125,-121 125,-121 125,-165 125,-165 125,-171 119,-177 113,-177\"/>\n<text text-anchor=\"start\" x=\"33\" y=\"-161.8\" font-family=\"Helvetica,sans-Serif\" font-size=\"14.00\" fill=\"#000000\">gini = 0.0</text>\n<text text-anchor=\"start\" x=\"23\" y=\"-146.8\" font-family=\"Helvetica,sans-Serif\" font-size=\"14.00\" fill=\"#000000\">samples = 1</text>\n<text text-anchor=\"start\" x=\"21\" y=\"-131.8\" font-family=\"Helvetica,sans-Serif\" font-size=\"14.00\" fill=\"#000000\">value = [0, 1]</text>\n<text text-anchor=\"start\" x=\"8\" y=\"-116.8\" font-family=\"Helvetica,sans-Serif\" font-size=\"14.00\" fill=\"#000000\">class = Non&#45;face</text>\n</g>\n<!-- 3&#45;&gt;4 -->\n<g id=\"edge4\" class=\"edge\">\n<title>3&#45;&gt;4</title>\n<path fill=\"none\" stroke=\"#000000\" d=\"M147.1055,-217.7677C134.7932,-206.887 121.3948,-195.0466 108.9676,-184.0644\"/>\n<polygon fill=\"#000000\" stroke=\"#000000\" points=\"111.1847,-181.3529 101.3737,-177.3535 106.5493,-186.5982 111.1847,-181.3529\"/>\n</g>\n<!-- 5 -->\n<g id=\"node6\" class=\"node\">\n<title>5</title>\n<path fill=\"#e58139\" stroke=\"#000000\" d=\"M238,-177C238,-177 155,-177 155,-177 149,-177 143,-171 143,-165 143,-165 143,-121 143,-121 143,-115 149,-109 155,-109 155,-109 238,-109 238,-109 244,-109 250,-115 250,-121 250,-121 250,-165 250,-165 250,-171 244,-177 238,-177\"/>\n<text text-anchor=\"start\" x=\"167\" y=\"-161.8\" font-family=\"Helvetica,sans-Serif\" font-size=\"14.00\" fill=\"#000000\">gini = 0.0</text>\n<text text-anchor=\"start\" x=\"152.5\" y=\"-146.8\" font-family=\"Helvetica,sans-Serif\" font-size=\"14.00\" fill=\"#000000\">samples = 63</text>\n<text text-anchor=\"start\" x=\"151\" y=\"-131.8\" font-family=\"Helvetica,sans-Serif\" font-size=\"14.00\" fill=\"#000000\">value = [63, 0]</text>\n<text text-anchor=\"start\" x=\"155\" y=\"-116.8\" font-family=\"Helvetica,sans-Serif\" font-size=\"14.00\" fill=\"#000000\">class = Face</text>\n</g>\n<!-- 3&#45;&gt;5 -->\n<g id=\"edge5\" class=\"edge\">\n<title>3&#45;&gt;5</title>\n<path fill=\"none\" stroke=\"#000000\" d=\"M193.2207,-217.7677C193.6484,-208.0161 194.1099,-197.4937 194.5478,-187.509\"/>\n<polygon fill=\"#000000\" stroke=\"#000000\" points=\"198.0516,-187.4973 194.9933,-177.3535 191.0584,-187.1905 198.0516,-187.4973\"/>\n</g>\n<!-- 8 -->\n<g id=\"node9\" class=\"node\">\n<title>8</title>\n<path fill=\"#e78a47\" stroke=\"#000000\" d=\"M501,-296C501,-296 418,-296 418,-296 412,-296 406,-290 406,-284 406,-284 406,-230 406,-230 406,-224 412,-218 418,-218 418,-218 501,-218 501,-218 507,-218 513,-224 513,-230 513,-230 513,-284 513,-284 513,-290 507,-296 501,-296\"/>\n<text text-anchor=\"start\" x=\"414.5\" y=\"-281.8\" font-family=\"Helvetica,sans-Serif\" font-size=\"14.00\" fill=\"#000000\">X</text>\n<text text-anchor=\"start\" x=\"424.5\" y=\"-281.8\" font-family=\"Helvetica,sans-Serif\" baseline-shift=\"sub\" font-size=\"14.00\" fill=\"#000000\">8135</text>\n<text text-anchor=\"start\" x=\"452.5\" y=\"-281.8\" font-family=\"Helvetica,sans-Serif\" font-size=\"14.00\" fill=\"#000000\"> ≤ 157.5</text>\n<text text-anchor=\"start\" x=\"421.5\" y=\"-267.8\" font-family=\"Helvetica,sans-Serif\" font-size=\"14.00\" fill=\"#000000\">gini = 0.124</text>\n<text text-anchor=\"start\" x=\"415.5\" y=\"-253.8\" font-family=\"Helvetica,sans-Serif\" font-size=\"14.00\" fill=\"#000000\">samples = 15</text>\n<text text-anchor=\"start\" x=\"414\" y=\"-239.8\" font-family=\"Helvetica,sans-Serif\" font-size=\"14.00\" fill=\"#000000\">value = [14, 1]</text>\n<text text-anchor=\"start\" x=\"418\" y=\"-225.8\" font-family=\"Helvetica,sans-Serif\" font-size=\"14.00\" fill=\"#000000\">class = Face</text>\n</g>\n<!-- 7&#45;&gt;8 -->\n<g id=\"edge8\" class=\"edge\">\n<title>7&#45;&gt;8</title>\n<path fill=\"none\" stroke=\"#000000\" d=\"M459.5,-331.7677C459.5,-323.6172 459.5,-314.9283 459.5,-306.4649\"/>\n<polygon fill=\"#000000\" stroke=\"#000000\" points=\"463.0001,-306.3046 459.5,-296.3046 456.0001,-306.3047 463.0001,-306.3046\"/>\n</g>\n<!-- 11 -->\n<g id=\"node12\" class=\"node\">\n<title>11</title>\n<path fill=\"#40a1e6\" stroke=\"#000000\" d=\"M652,-296C652,-296 551,-296 551,-296 545,-296 539,-290 539,-284 539,-284 539,-230 539,-230 539,-224 545,-218 551,-218 551,-218 652,-218 652,-218 658,-218 664,-224 664,-230 664,-230 664,-284 664,-284 664,-290 658,-296 652,-296\"/>\n<text text-anchor=\"start\" x=\"556.5\" y=\"-281.8\" font-family=\"Helvetica,sans-Serif\" font-size=\"14.00\" fill=\"#000000\">X</text>\n<text text-anchor=\"start\" x=\"566.5\" y=\"-281.8\" font-family=\"Helvetica,sans-Serif\" baseline-shift=\"sub\" font-size=\"14.00\" fill=\"#000000\">8008</text>\n<text text-anchor=\"start\" x=\"594.5\" y=\"-281.8\" font-family=\"Helvetica,sans-Serif\" font-size=\"14.00\" fill=\"#000000\"> ≤ 138.0</text>\n<text text-anchor=\"start\" x=\"568\" y=\"-267.8\" font-family=\"Helvetica,sans-Serif\" font-size=\"14.00\" fill=\"#000000\">gini = 0.07</text>\n<text text-anchor=\"start\" x=\"553.5\" y=\"-253.8\" font-family=\"Helvetica,sans-Serif\" font-size=\"14.00\" fill=\"#000000\">samples = 194</text>\n<text text-anchor=\"start\" x=\"551.5\" y=\"-239.8\" font-family=\"Helvetica,sans-Serif\" font-size=\"14.00\" fill=\"#000000\">value = [7, 187]</text>\n<text text-anchor=\"start\" x=\"547\" y=\"-225.8\" font-family=\"Helvetica,sans-Serif\" font-size=\"14.00\" fill=\"#000000\">class = Non&#45;face</text>\n</g>\n<!-- 7&#45;&gt;11 -->\n<g id=\"edge11\" class=\"edge\">\n<title>7&#45;&gt;11</title>\n<path fill=\"none\" stroke=\"#000000\" d=\"M508.3683,-331.7677C520.0825,-322.3633 532.6898,-312.242 544.728,-302.5775\"/>\n<polygon fill=\"#000000\" stroke=\"#000000\" points=\"546.9347,-305.2943 552.5416,-296.3046 542.5525,-299.8357 546.9347,-305.2943\"/>\n</g>\n<!-- 9 -->\n<g id=\"node10\" class=\"node\">\n<title>9</title>\n<path fill=\"#e58139\" stroke=\"#000000\" d=\"M367,-177C367,-177 284,-177 284,-177 278,-177 272,-171 272,-165 272,-165 272,-121 272,-121 272,-115 278,-109 284,-109 284,-109 367,-109 367,-109 373,-109 379,-115 379,-121 379,-121 379,-165 379,-165 379,-171 373,-177 367,-177\"/>\n<text text-anchor=\"start\" x=\"296\" y=\"-161.8\" font-family=\"Helvetica,sans-Serif\" font-size=\"14.00\" fill=\"#000000\">gini = 0.0</text>\n<text text-anchor=\"start\" x=\"281.5\" y=\"-146.8\" font-family=\"Helvetica,sans-Serif\" font-size=\"14.00\" fill=\"#000000\">samples = 14</text>\n<text text-anchor=\"start\" x=\"280\" y=\"-131.8\" font-family=\"Helvetica,sans-Serif\" font-size=\"14.00\" fill=\"#000000\">value = [14, 0]</text>\n<text text-anchor=\"start\" x=\"284\" y=\"-116.8\" font-family=\"Helvetica,sans-Serif\" font-size=\"14.00\" fill=\"#000000\">class = Face</text>\n</g>\n<!-- 8&#45;&gt;9 -->\n<g id=\"edge9\" class=\"edge\">\n<title>8&#45;&gt;9</title>\n<path fill=\"none\" stroke=\"#000000\" d=\"M413.3848,-217.7677C400.5952,-206.887 386.6776,-195.0466 373.7686,-184.0644\"/>\n<polygon fill=\"#000000\" stroke=\"#000000\" points=\"375.765,-181.1675 365.8805,-177.3535 371.2291,-186.4992 375.765,-181.1675\"/>\n</g>\n<!-- 10 -->\n<g id=\"node11\" class=\"node\">\n<title>10</title>\n<path fill=\"#399de5\" stroke=\"#000000\" d=\"M510,-177C510,-177 409,-177 409,-177 403,-177 397,-171 397,-165 397,-165 397,-121 397,-121 397,-115 403,-109 409,-109 409,-109 510,-109 510,-109 516,-109 522,-115 522,-121 522,-121 522,-165 522,-165 522,-171 516,-177 510,-177\"/>\n<text text-anchor=\"start\" x=\"430\" y=\"-161.8\" font-family=\"Helvetica,sans-Serif\" font-size=\"14.00\" fill=\"#000000\">gini = 0.0</text>\n<text text-anchor=\"start\" x=\"420\" y=\"-146.8\" font-family=\"Helvetica,sans-Serif\" font-size=\"14.00\" fill=\"#000000\">samples = 1</text>\n<text text-anchor=\"start\" x=\"418\" y=\"-131.8\" font-family=\"Helvetica,sans-Serif\" font-size=\"14.00\" fill=\"#000000\">value = [0, 1]</text>\n<text text-anchor=\"start\" x=\"405\" y=\"-116.8\" font-family=\"Helvetica,sans-Serif\" font-size=\"14.00\" fill=\"#000000\">class = Non&#45;face</text>\n</g>\n<!-- 8&#45;&gt;10 -->\n<g id=\"edge10\" class=\"edge\">\n<title>8&#45;&gt;10</title>\n<path fill=\"none\" stroke=\"#000000\" d=\"M459.5,-217.7677C459.5,-208.0161 459.5,-197.4937 459.5,-187.509\"/>\n<polygon fill=\"#000000\" stroke=\"#000000\" points=\"463.0001,-187.3535 459.5,-177.3535 456.0001,-187.3536 463.0001,-187.3535\"/>\n</g>\n<!-- 12 -->\n<g id=\"node13\" class=\"node\">\n<title>12</title>\n<path fill=\"#3a9ee5\" stroke=\"#000000\" d=\"M653,-182C653,-182 552,-182 552,-182 546,-182 540,-176 540,-170 540,-170 540,-116 540,-116 540,-110 546,-104 552,-104 552,-104 653,-104 653,-104 659,-104 665,-110 665,-116 665,-116 665,-170 665,-170 665,-176 659,-182 653,-182\"/>\n<text text-anchor=\"start\" x=\"561\" y=\"-167.8\" font-family=\"Helvetica,sans-Serif\" font-size=\"14.00\" fill=\"#000000\">X</text>\n<text text-anchor=\"start\" x=\"571\" y=\"-167.8\" font-family=\"Helvetica,sans-Serif\" baseline-shift=\"sub\" font-size=\"14.00\" fill=\"#000000\">726</text>\n<text text-anchor=\"start\" x=\"592\" y=\"-167.8\" font-family=\"Helvetica,sans-Serif\" font-size=\"14.00\" fill=\"#000000\"> ≤ 153.0</text>\n<text text-anchor=\"start\" x=\"564.5\" y=\"-153.8\" font-family=\"Helvetica,sans-Serif\" font-size=\"14.00\" fill=\"#000000\">gini = 0.011</text>\n<text text-anchor=\"start\" x=\"554.5\" y=\"-139.8\" font-family=\"Helvetica,sans-Serif\" font-size=\"14.00\" fill=\"#000000\">samples = 188</text>\n<text text-anchor=\"start\" x=\"552.5\" y=\"-125.8\" font-family=\"Helvetica,sans-Serif\" font-size=\"14.00\" fill=\"#000000\">value = [1, 187]</text>\n<text text-anchor=\"start\" x=\"548\" y=\"-111.8\" font-family=\"Helvetica,sans-Serif\" font-size=\"14.00\" fill=\"#000000\">class = Non&#45;face</text>\n</g>\n<!-- 11&#45;&gt;12 -->\n<g id=\"edge12\" class=\"edge\">\n<title>11&#45;&gt;12</title>\n<path fill=\"none\" stroke=\"#000000\" d=\"M601.8441,-217.7677C601.9156,-209.6172 601.9919,-200.9283 602.0661,-192.4649\"/>\n<polygon fill=\"#000000\" stroke=\"#000000\" points=\"605.5673,-192.335 602.1552,-182.3046 598.5675,-192.2735 605.5673,-192.335\"/>\n</g>\n<!-- 15 -->\n<g id=\"node16\" class=\"node\">\n<title>15</title>\n<path fill=\"#e58139\" stroke=\"#000000\" d=\"M770,-177C770,-177 695,-177 695,-177 689,-177 683,-171 683,-165 683,-165 683,-121 683,-121 683,-115 689,-109 695,-109 695,-109 770,-109 770,-109 776,-109 782,-115 782,-121 782,-121 782,-165 782,-165 782,-171 776,-177 770,-177\"/>\n<text text-anchor=\"start\" x=\"703\" y=\"-161.8\" font-family=\"Helvetica,sans-Serif\" font-size=\"14.00\" fill=\"#000000\">gini = 0.0</text>\n<text text-anchor=\"start\" x=\"693\" y=\"-146.8\" font-family=\"Helvetica,sans-Serif\" font-size=\"14.00\" fill=\"#000000\">samples = 6</text>\n<text text-anchor=\"start\" x=\"691\" y=\"-131.8\" font-family=\"Helvetica,sans-Serif\" font-size=\"14.00\" fill=\"#000000\">value = [6, 0]</text>\n<text text-anchor=\"start\" x=\"691\" y=\"-116.8\" font-family=\"Helvetica,sans-Serif\" font-size=\"14.00\" fill=\"#000000\">class = Face</text>\n</g>\n<!-- 11&#45;&gt;15 -->\n<g id=\"edge15\" class=\"edge\">\n<title>11&#45;&gt;15</title>\n<path fill=\"none\" stroke=\"#000000\" d=\"M646.5828,-217.7677C659.086,-206.887 672.6921,-195.0466 685.312,-184.0644\"/>\n<polygon fill=\"#000000\" stroke=\"#000000\" points=\"687.7776,-186.5585 693.0236,-177.3535 683.1824,-181.2779 687.7776,-186.5585\"/>\n</g>\n<!-- 13 -->\n<g id=\"node14\" class=\"node\">\n<title>13</title>\n<path fill=\"#399de5\" stroke=\"#000000\" d=\"M588,-68C588,-68 487,-68 487,-68 481,-68 475,-62 475,-56 475,-56 475,-12 475,-12 475,-6 481,0 487,0 487,0 588,0 588,0 594,0 600,-6 600,-12 600,-12 600,-56 600,-56 600,-62 594,-68 588,-68\"/>\n<text text-anchor=\"start\" x=\"508\" y=\"-52.8\" font-family=\"Helvetica,sans-Serif\" font-size=\"14.00\" fill=\"#000000\">gini = 0.0</text>\n<text text-anchor=\"start\" x=\"489.5\" y=\"-37.8\" font-family=\"Helvetica,sans-Serif\" font-size=\"14.00\" fill=\"#000000\">samples = 187</text>\n<text text-anchor=\"start\" x=\"487.5\" y=\"-22.8\" font-family=\"Helvetica,sans-Serif\" font-size=\"14.00\" fill=\"#000000\">value = [0, 187]</text>\n<text text-anchor=\"start\" x=\"483\" y=\"-7.8\" font-family=\"Helvetica,sans-Serif\" font-size=\"14.00\" fill=\"#000000\">class = Non&#45;face</text>\n</g>\n<!-- 12&#45;&gt;13 -->\n<g id=\"edge13\" class=\"edge\">\n<title>12&#45;&gt;13</title>\n<path fill=\"none\" stroke=\"#000000\" d=\"M579.2171,-103.9564C573.9715,-95.1599 568.3766,-85.7778 563.044,-76.8352\"/>\n<polygon fill=\"#000000\" stroke=\"#000000\" points=\"565.9492,-74.8734 557.8213,-68.0772 559.937,-78.4587 565.9492,-74.8734\"/>\n</g>\n<!-- 14 -->\n<g id=\"node15\" class=\"node\">\n<title>14</title>\n<path fill=\"#e58139\" stroke=\"#000000\" d=\"M705,-68C705,-68 630,-68 630,-68 624,-68 618,-62 618,-56 618,-56 618,-12 618,-12 618,-6 624,0 630,0 630,0 705,0 705,0 711,0 717,-6 717,-12 717,-12 717,-56 717,-56 717,-62 711,-68 705,-68\"/>\n<text text-anchor=\"start\" x=\"638\" y=\"-52.8\" font-family=\"Helvetica,sans-Serif\" font-size=\"14.00\" fill=\"#000000\">gini = 0.0</text>\n<text text-anchor=\"start\" x=\"628\" y=\"-37.8\" font-family=\"Helvetica,sans-Serif\" font-size=\"14.00\" fill=\"#000000\">samples = 1</text>\n<text text-anchor=\"start\" x=\"626\" y=\"-22.8\" font-family=\"Helvetica,sans-Serif\" font-size=\"14.00\" fill=\"#000000\">value = [1, 0]</text>\n<text text-anchor=\"start\" x=\"626\" y=\"-7.8\" font-family=\"Helvetica,sans-Serif\" font-size=\"14.00\" fill=\"#000000\">class = Face</text>\n</g>\n<!-- 12&#45;&gt;14 -->\n<g id=\"edge14\" class=\"edge\">\n<title>12&#45;&gt;14</title>\n<path fill=\"none\" stroke=\"#000000\" d=\"M625.7829,-103.9564C631.0285,-95.1599 636.6234,-85.7778 641.956,-76.8352\"/>\n<polygon fill=\"#000000\" stroke=\"#000000\" points=\"645.063,-78.4587 647.1787,-68.0772 639.0508,-74.8734 645.063,-78.4587\"/>\n</g>\n<!-- 17 -->\n<g id=\"node18\" class=\"node\">\n<title>17</title>\n<path fill=\"#399de5\" stroke=\"#000000\" d=\"M655,-405C655,-405 554,-405 554,-405 548,-405 542,-399 542,-393 542,-393 542,-349 542,-349 542,-343 548,-337 554,-337 554,-337 655,-337 655,-337 661,-337 667,-343 667,-349 667,-349 667,-393 667,-393 667,-399 661,-405 655,-405\"/>\n<text text-anchor=\"start\" x=\"575\" y=\"-389.8\" font-family=\"Helvetica,sans-Serif\" font-size=\"14.00\" fill=\"#000000\">gini = 0.0</text>\n<text text-anchor=\"start\" x=\"565\" y=\"-374.8\" font-family=\"Helvetica,sans-Serif\" font-size=\"14.00\" fill=\"#000000\">samples = 1</text>\n<text text-anchor=\"start\" x=\"563\" y=\"-359.8\" font-family=\"Helvetica,sans-Serif\" font-size=\"14.00\" fill=\"#000000\">value = [0, 1]</text>\n<text text-anchor=\"start\" x=\"550\" y=\"-344.8\" font-family=\"Helvetica,sans-Serif\" font-size=\"14.00\" fill=\"#000000\">class = Non&#45;face</text>\n</g>\n<!-- 16&#45;&gt;17 -->\n<g id=\"edge17\" class=\"edge\">\n<title>16&#45;&gt;17</title>\n<path fill=\"none\" stroke=\"#000000\" d=\"M604.5,-445.7677C604.5,-436.0161 604.5,-425.4937 604.5,-415.509\"/>\n<polygon fill=\"#000000\" stroke=\"#000000\" points=\"608.0001,-415.3535 604.5,-405.3535 601.0001,-415.3536 608.0001,-415.3535\"/>\n</g>\n<!-- 18 -->\n<g id=\"node19\" class=\"node\">\n<title>18</title>\n<path fill=\"#e5823b\" stroke=\"#000000\" d=\"M790.5,-410C790.5,-410 698.5,-410 698.5,-410 692.5,-410 686.5,-404 686.5,-398 686.5,-398 686.5,-344 686.5,-344 686.5,-338 692.5,-332 698.5,-332 698.5,-332 790.5,-332 790.5,-332 796.5,-332 802.5,-338 802.5,-344 802.5,-344 802.5,-398 802.5,-398 802.5,-404 796.5,-410 790.5,-410\"/>\n<text text-anchor=\"start\" x=\"707.5\" y=\"-395.8\" font-family=\"Helvetica,sans-Serif\" font-size=\"14.00\" fill=\"#000000\">X</text>\n<text text-anchor=\"start\" x=\"717.5\" y=\"-395.8\" font-family=\"Helvetica,sans-Serif\" baseline-shift=\"sub\" font-size=\"14.00\" fill=\"#000000\">5293</text>\n<text text-anchor=\"start\" x=\"745.5\" y=\"-395.8\" font-family=\"Helvetica,sans-Serif\" font-size=\"14.00\" fill=\"#000000\"> ≤ 7.5</text>\n<text text-anchor=\"start\" x=\"706.5\" y=\"-381.8\" font-family=\"Helvetica,sans-Serif\" font-size=\"14.00\" fill=\"#000000\">gini = 0.016</text>\n<text text-anchor=\"start\" x=\"696.5\" y=\"-367.8\" font-family=\"Helvetica,sans-Serif\" font-size=\"14.00\" fill=\"#000000\">samples = 123</text>\n<text text-anchor=\"start\" x=\"694.5\" y=\"-353.8\" font-family=\"Helvetica,sans-Serif\" font-size=\"14.00\" fill=\"#000000\">value = [122, 1]</text>\n<text text-anchor=\"start\" x=\"703\" y=\"-339.8\" font-family=\"Helvetica,sans-Serif\" font-size=\"14.00\" fill=\"#000000\">class = Face</text>\n</g>\n<!-- 16&#45;&gt;18 -->\n<g id=\"edge18\" class=\"edge\">\n<title>16&#45;&gt;18</title>\n<path fill=\"none\" stroke=\"#000000\" d=\"M652.6801,-445.7677C664.1193,-436.4529 676.4223,-426.4347 688.1884,-416.8538\"/>\n<polygon fill=\"#000000\" stroke=\"#000000\" points=\"690.6868,-419.333 696.2311,-410.3046 686.2667,-413.9049 690.6868,-419.333\"/>\n</g>\n<!-- 19 -->\n<g id=\"node20\" class=\"node\">\n<title>19</title>\n<path fill=\"#399de5\" stroke=\"#000000\" d=\"M795,-291C795,-291 694,-291 694,-291 688,-291 682,-285 682,-279 682,-279 682,-235 682,-235 682,-229 688,-223 694,-223 694,-223 795,-223 795,-223 801,-223 807,-229 807,-235 807,-235 807,-279 807,-279 807,-285 801,-291 795,-291\"/>\n<text text-anchor=\"start\" x=\"715\" y=\"-275.8\" font-family=\"Helvetica,sans-Serif\" font-size=\"14.00\" fill=\"#000000\">gini = 0.0</text>\n<text text-anchor=\"start\" x=\"705\" y=\"-260.8\" font-family=\"Helvetica,sans-Serif\" font-size=\"14.00\" fill=\"#000000\">samples = 1</text>\n<text text-anchor=\"start\" x=\"703\" y=\"-245.8\" font-family=\"Helvetica,sans-Serif\" font-size=\"14.00\" fill=\"#000000\">value = [0, 1]</text>\n<text text-anchor=\"start\" x=\"690\" y=\"-230.8\" font-family=\"Helvetica,sans-Serif\" font-size=\"14.00\" fill=\"#000000\">class = Non&#45;face</text>\n</g>\n<!-- 18&#45;&gt;19 -->\n<g id=\"edge19\" class=\"edge\">\n<title>18&#45;&gt;19</title>\n<path fill=\"none\" stroke=\"#000000\" d=\"M744.5,-331.7677C744.5,-322.0161 744.5,-311.4937 744.5,-301.509\"/>\n<polygon fill=\"#000000\" stroke=\"#000000\" points=\"748.0001,-301.3535 744.5,-291.3535 741.0001,-301.3536 748.0001,-301.3535\"/>\n</g>\n<!-- 20 -->\n<g id=\"node21\" class=\"node\">\n<title>20</title>\n<path fill=\"#e58139\" stroke=\"#000000\" d=\"M929.5,-291C929.5,-291 837.5,-291 837.5,-291 831.5,-291 825.5,-285 825.5,-279 825.5,-279 825.5,-235 825.5,-235 825.5,-229 831.5,-223 837.5,-223 837.5,-223 929.5,-223 929.5,-223 935.5,-223 941.5,-229 941.5,-235 941.5,-235 941.5,-279 941.5,-279 941.5,-285 935.5,-291 929.5,-291\"/>\n<text text-anchor=\"start\" x=\"854\" y=\"-275.8\" font-family=\"Helvetica,sans-Serif\" font-size=\"14.00\" fill=\"#000000\">gini = 0.0</text>\n<text text-anchor=\"start\" x=\"835.5\" y=\"-260.8\" font-family=\"Helvetica,sans-Serif\" font-size=\"14.00\" fill=\"#000000\">samples = 122</text>\n<text text-anchor=\"start\" x=\"833.5\" y=\"-245.8\" font-family=\"Helvetica,sans-Serif\" font-size=\"14.00\" fill=\"#000000\">value = [122, 0]</text>\n<text text-anchor=\"start\" x=\"842\" y=\"-230.8\" font-family=\"Helvetica,sans-Serif\" font-size=\"14.00\" fill=\"#000000\">class = Face</text>\n</g>\n<!-- 18&#45;&gt;20 -->\n<g id=\"edge20\" class=\"edge\">\n<title>18&#45;&gt;20</title>\n<path fill=\"none\" stroke=\"#000000\" d=\"M792.3359,-331.7677C805.7279,-320.7843 820.3122,-308.8231 833.809,-297.7538\"/>\n<polygon fill=\"#000000\" stroke=\"#000000\" points=\"836.1002,-300.4013 841.6128,-291.3535 831.6611,-294.9888 836.1002,-300.4013\"/>\n</g>\n</g>\n</svg>\n"
          },
          "metadata": {},
          "execution_count": 18
        }
      ]
    },
    {
      "cell_type": "code",
      "source": [
        "from sklearn import metrics\n",
        "y_predict = clf.predict(data_test)\n",
        "print(\"Accuracy:\",metrics.accuracy_score(label_test, y_predict))"
      ],
      "metadata": {
        "colab": {
          "base_uri": "https://localhost:8080/"
        },
        "id": "9SAKC9-RxKLg",
        "outputId": "a2b24c12-60d4-4b23-c1bc-1a3fe7328e04"
      },
      "execution_count": null,
      "outputs": [
        {
          "output_type": "stream",
          "name": "stdout",
          "text": [
            "Accuracy: 0.9\n"
          ]
        }
      ]
    },
    {
      "cell_type": "markdown",
      "source": [
        "#**Sheet 4: Question 2**"
      ],
      "metadata": {
        "id": "sAEZ8qOXKw-z"
      }
    },
    {
      "cell_type": "markdown",
      "source": [
        "**Training Model**"
      ],
      "metadata": {
        "id": "c1aKwil8bh2m"
      }
    },
    {
      "cell_type": "code",
      "source": [
        "def naive_bayes_classification(train_data, train_labels):\n",
        "  #Construct the D matrix of shape: (40, 7, 10304) so that Di in D is for the ith class (class-specific subset)\n",
        "  D = np.hstack((train_data,train_labels[:,None]))\n",
        "  D = D[D[:, -1].argsort()]\n",
        "  D = np.split(D[:,:-1], np.unique(D[:, -1], return_index=True)[1][1:])\n",
        "  num_of_classes = np.shape(D)[0]\n",
        "  size = np.shape(D)[1] * np.shape(D)[0]\n",
        "  M = np.empty((num_of_classes, n_of_features))\n",
        "  p_c = np.empty((num_of_classes))\n",
        "  var = np.empty((num_of_classes, n_of_features))\n",
        "  Z = D \n",
        "  i = 0\n",
        "  for Di in D:\n",
        "    ni = np.shape(Di)[0] #number of samples in the class Di\n",
        "    p_c[i] = ni / size #append P(ci)\n",
        "    Mi = np.mean(Di ,axis = 0) #Mean vector\n",
        "    M[i] = Mi #append to matrix\n",
        "    Zi = Di - Mi #centered matrix\n",
        "    vari = np.empty((n_of_features))\n",
        "    for j in range(n_of_features):\n",
        "      variance = float((((Zi[:, j]).T).dot(Zi[:,j])) / ni)\n",
        "      vari[j] = variance\n",
        "    var[i] = vari\n",
        "    i += 1\n",
        "  return p_c, M, var"
      ],
      "metadata": {
        "id": "L-RgFgk1K-OM"
      },
      "execution_count": null,
      "outputs": []
    },
    {
      "cell_type": "code",
      "source": [
        "p_c, M, var = naive_bayes_classification(train_data, train_labels)\n",
        "print(np.shape(p_c), np.shape(M), np.shape(var))"
      ],
      "metadata": {
        "id": "u_hdTs1FNdoG",
        "colab": {
          "base_uri": "https://localhost:8080/"
        },
        "outputId": "f13d6f1b-4628-4513-a6db-008103a8fa51"
      },
      "execution_count": null,
      "outputs": [
        {
          "output_type": "stream",
          "name": "stdout",
          "text": [
            "(40,) (40, 10304) (40, 10304)\n"
          ]
        }
      ]
    },
    {
      "cell_type": "markdown",
      "source": [
        "**Testing Model**"
      ],
      "metadata": {
        "id": "CMDqsLV-mWGv"
      }
    },
    {
      "cell_type": "code",
      "source": [
        "import math\n",
        "def testing(p_c, M, var, test_data, test_labels):\n",
        "  num_of_classes = np.shape(p_c)[0]\n",
        "  accuracy = 0\n",
        "  count = 0\n",
        "  ys = []\n",
        "  for x in test_data:\n",
        "    probs = np.empty((num_of_classes))\n",
        "    for i in range(num_of_classes):\n",
        "      product = 1.0\n",
        "      for j in range(n_of_features):\n",
        "        numerator = np.exp((-1/2)*((x[j]-M[i][j])**2) / (2 * var[i][j]))\n",
        "        denominator = np.sqrt(2 * np.pi * var[i][j])\n",
        "        prob = numerator / denominator\n",
        "      probs[i] = p_c[i] * prob\n",
        "    y = np.argmax(probs)\n",
        "    ys.append(y)\n",
        "    true_label =  test_labels[count]\n",
        "    if y == true_label : accuracy += 1\n",
        "    count += 1\n",
        "  return accuracy / np.shape(test_labels)[0], ys\n"
      ],
      "metadata": {
        "id": "GNkXIvMTmVpr"
      },
      "execution_count": null,
      "outputs": []
    },
    {
      "cell_type": "code",
      "source": [
        "from sklearn.metrics import confusion_matrix\n",
        "accuracy, ys = testing(p_c, M, var, test_data, test_labels)\n",
        "mat = confusion_matrix(test_labels, ys)\n",
        "print(\"Accuracy = \", accuracy)\n",
        "print(\"Confusion Matrix : \")\n",
        "print(mat)"
      ],
      "metadata": {
        "id": "VDuzn3q4rt57",
        "colab": {
          "base_uri": "https://localhost:8080/"
        },
        "outputId": "3d882b24-4d44-4bea-f3e7-d51fdd87c3bf"
      },
      "execution_count": null,
      "outputs": [
        {
          "output_type": "stream",
          "name": "stdout",
          "text": [
            "Accuracy =  0.008333333333333333\n",
            "Confusion Matrix : \n",
            "[[0 0 0 ... 0 0 0]\n",
            " [0 0 0 ... 0 0 0]\n",
            " [0 0 0 ... 0 0 0]\n",
            " ...\n",
            " [0 0 0 ... 0 0 0]\n",
            " [0 0 0 ... 3 0 0]\n",
            " [0 0 0 ... 0 0 0]]\n"
          ]
        }
      ]
    },
    {
      "cell_type": "markdown",
      "source": [
        "**Applying PCA on Data**"
      ],
      "metadata": {
        "id": "g0XInQuvdJx5"
      }
    },
    {
      "cell_type": "code",
      "source": [
        "n_of_features = 40\n",
        "eigen_values, eigen_vectors, _ = PCA(train_data)\n",
        "projection_matrix = eigen_vectors[:,:n_of_features]\n",
        "train_data_PCA = np.dot(train_data, projection_matrix)\n",
        "test_data_PCA = np.dot(test_data, projection_matrix)\n",
        "print(np.shape(train_data_PCA), np.shape(test_data_PCA))"
      ],
      "metadata": {
        "id": "HuTmVaJknpSP",
        "colab": {
          "base_uri": "https://localhost:8080/"
        },
        "outputId": "61930772-3d4b-4e48-88e6-d138432d495f"
      },
      "execution_count": null,
      "outputs": [
        {
          "output_type": "stream",
          "name": "stdout",
          "text": [
            "(10304, 10304)\n",
            "(280, 40) (120, 40)\n"
          ]
        }
      ]
    },
    {
      "cell_type": "code",
      "source": [
        "p_c, M, var = naive_bayes_classification(train_data_PCA, train_labels)\n",
        "print(np.shape(p_c), np.shape(M), np.shape(var))\n",
        "accuracy_PCA, ys_PCA= testing(p_c, M, var, test_data_PCA, test_labels)\n",
        "print(\"Accuracy = \", accuracy_PCA)\n",
        "mat_PCA = confusion_matrix(test_labels, ys_PCA)\n",
        "print(\"Confusion Matrix : \")\n",
        "print(mat_PCA)"
      ],
      "metadata": {
        "colab": {
          "base_uri": "https://localhost:8080/"
        },
        "id": "TahmPZFZdQZB",
        "outputId": "ca359c96-3b9c-485a-9b37-e6145403440c"
      },
      "execution_count": null,
      "outputs": [
        {
          "output_type": "stream",
          "name": "stdout",
          "text": [
            "(40,) (40, 40) (40, 40)\n",
            "Accuracy =  0.016666666666666666\n",
            "Confusion Matrix : \n",
            "[[0 2 0 ... 0 0 0]\n",
            " [0 1 0 ... 0 0 0]\n",
            " [0 2 0 ... 0 0 0]\n",
            " ...\n",
            " [0 2 0 ... 0 0 0]\n",
            " [0 1 0 ... 0 0 0]\n",
            " [0 2 0 ... 0 0 0]]\n"
          ]
        }
      ]
    }
  ]
}